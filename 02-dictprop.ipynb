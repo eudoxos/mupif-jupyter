{
 "cells": [
  {
   "cell_type": "code",
   "execution_count": 45,
   "metadata": {},
   "outputs": [
    {
     "name": "stdout",
     "output_type": "stream",
     "text": [
      "{'Identity': {'Material': 'propene'},\n",
      " 'Implementation': {'BoundaryCondition': 'Isolated'},\n",
      " 'Part': [1, 2],\n",
      " 'Properties': {'Chemical': None,\n",
      "                'Electrical': {'FreeElectrons': 1, 'FreeHoles': 0},\n",
      "                'Physical': {'ReorganizationEnergyExternal': 0.1}},\n",
      " 'Topology': {'CellSize': None, 'Parent': 1}}\n"
     ]
    }
   ],
   "source": [
    "import json, pprint\n",
    "src='../uoi.gr/example-data/fill_states/example_jsons/GrainState_ex_propene.json'\n",
    "jsonDict=json.load(open(src,'r'))\n",
    "\n",
    "class DictProxy(object):\n",
    "    def __init__(self,obj):\n",
    "        self.__dict__['_obj']=obj\n",
    "    def __getattr__(self,key):\n",
    "        if key=='__dir__': return lambda: self._obj.__dir__()\n",
    "        if key.startswith('_'): return getattr(self._obj,key)\n",
    "        o=self._obj[key]\n",
    "        if isinstance(o,dict): return DictProxy(self._obj[key])\n",
    "        return self._obj[key]\n",
    "    def __setattr__(self,key,val):\n",
    "        raise RuntimeError('Data are immutable')\n",
    "        #self._obj[key]=val\n",
    "    def __delattr__(self,key): del self._obj[key]\n",
    "    def __dir__(self): return self._obj.keys()\n",
    "pprint.pprint(jsonDict)\n",
    "p=DictProxy(jsonDict)\n"
   ]
  },
  {
   "cell_type": "code",
   "execution_count": 46,
   "metadata": {},
   "outputs": [
    {
     "data": {
      "text/plain": [
       "1"
      ]
     },
     "execution_count": 46,
     "metadata": {},
     "output_type": "execute_result"
    }
   ],
   "source": [
    "p.Topology.Parent"
   ]
  },
  {
   "cell_type": "code",
   "execution_count": 47,
   "metadata": {},
   "outputs": [
    {
     "data": {
      "text/plain": [
       "'propene'"
      ]
     },
     "execution_count": 47,
     "metadata": {},
     "output_type": "execute_result"
    }
   ],
   "source": [
    "p.Identity.Material"
   ]
  },
  {
   "cell_type": "code",
   "execution_count": 48,
   "metadata": {},
   "outputs": [
    {
     "data": {
      "text/plain": [
       "'Isolated'"
      ]
     },
     "execution_count": 48,
     "metadata": {},
     "output_type": "execute_result"
    }
   ],
   "source": [
    "p.Implementation.BoundaryCondition"
   ]
  },
  {
   "cell_type": "code",
   "execution_count": 49,
   "metadata": {},
   "outputs": [
    {
     "data": {
      "text/plain": [
       "0.1"
      ]
     },
     "execution_count": 49,
     "metadata": {},
     "output_type": "execute_result"
    }
   ],
   "source": [
    "p.Properties.Physical.ReorganizationEnergyExternal"
   ]
  },
  {
   "cell_type": "code",
   "execution_count": null,
   "metadata": {},
   "outputs": [],
   "source": []
  },
  {
   "cell_type": "code",
   "execution_count": null,
   "metadata": {},
   "outputs": [],
   "source": []
  }
 ],
 "metadata": {
  "kernelspec": {
   "display_name": "Python 3",
   "language": "python",
   "name": "python3"
  },
  "language_info": {
   "codemirror_mode": {
    "name": "ipython",
    "version": 3
   },
   "file_extension": ".py",
   "mimetype": "text/x-python",
   "name": "python",
   "nbconvert_exporter": "python",
   "pygments_lexer": "ipython3",
   "version": "3.8.5"
  }
 },
 "nbformat": 4,
 "nbformat_minor": 4
}
